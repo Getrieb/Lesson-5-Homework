{
 "cells": [
  {
   "cell_type": "markdown",
   "source": [
    "### ДОМАШНЄ ЗАВДАННЯ ДО ЗАНЯТТЯ № 5\n",
    "### _Задача №1_\n",
    "**Користувач вводить два цілих числа А і В (при цьому А <= B). Виведіть всі числа від А до В включно**"
   ],
   "metadata": {
    "collapsed": false,
    "pycharm": {
     "name": "#%% md\n"
    }
   }
  },
  {
   "cell_type": "code",
   "execution_count": 42,
   "outputs": [
    {
     "name": "stdout",
     "output_type": "stream",
     "text": [
      "Перше введене число = 2\n",
      "Друге введене число = 6\n",
      "2\n",
      "3\n",
      "4\n",
      "5\n",
      "6\n"
     ]
    }
   ],
   "source": [
    "A = int(input(\"Введіть перше число:\"))\n",
    "B = int(input(\"Введіть друге число:\"))\n",
    "print(\"Перше введене число =\", A)\n",
    "print(\"Друге введене число =\", B)\n",
    "\n",
    "for i in range(A, B + 1):\n",
    "    print(i)"
   ],
   "metadata": {
    "collapsed": false,
    "pycharm": {
     "name": "#%%\n"
    }
   }
  },
  {
   "cell_type": "code",
   "execution_count": 38,
   "outputs": [
    {
     "name": "stdout",
     "output_type": "stream",
     "text": [
      "Перше введене число = 2\n",
      "Друге введене число = 6\n",
      "2\n",
      "3\n",
      "4\n",
      "5\n",
      "6\n"
     ]
    }
   ],
   "source": [
    "A = int(input(\"Введіть перше число:\"))\n",
    "B = int(input(\"Введіть друге число:\"))\n",
    "print(\"Перше введене число =\", A)\n",
    "print(\"Друге введене число =\", B)\n",
    "\n",
    "while A <= B:\n",
    "    print(A)\n",
    "    A = A + 1\n"
   ],
   "metadata": {
    "collapsed": false,
    "pycharm": {
     "name": "#%%\n"
    }
   }
  },
  {
   "cell_type": "markdown",
   "source": [
    "### _Задача №6_\n",
    "#### _Користувач вводить 10 чисел. Знайти:_\n",
    "#### _6.1. Середнє значення_"
   ],
   "metadata": {
    "collapsed": false,
    "pycharm": {
     "name": "#%% md\n"
    }
   }
  },
  {
   "cell_type": "code",
   "execution_count": 64,
   "outputs": [
    {
     "name": "stdout",
     "output_type": "stream",
     "text": [
      "Зростаюча послідовність студентів за зростом: [163, 170, 171, 174, 176, 185, 185, 186, 186, 192]\n",
      "Cереднє значення зросту = 178.8\n"
     ]
    }
   ],
   "source": [
    "DS_students = []\n",
    "\n",
    "for i in range(10):\n",
    "    number = int(input(\"Введіть зрост студентів: \"))\n",
    "    DS_students.append(number)\n",
    "DS_students.sort(reverse = False)\n",
    "print(\"Зростаюча послідовність студентів за зростом:\", DS_students)\n",
    "\n",
    "c = 0\n",
    "for i in range(len(DS_students)):\n",
    "    k = DS_students[i]\n",
    "    c = c + k\n",
    "mean = c/len(DS_students)\n",
    "print(\"Cереднє значення зросту = %s\" % mean)"
   ],
   "metadata": {
    "collapsed": false,
    "pycharm": {
     "name": "#%%\n"
    }
   }
  },
  {
   "cell_type": "markdown",
   "source": [
    "#### _6.2. Медіана_"
   ],
   "metadata": {
    "collapsed": false,
    "pycharm": {
     "name": "#%% md\n"
    }
   }
  },
  {
   "cell_type": "code",
   "execution_count": 66,
   "outputs": [
    {
     "name": "stdout",
     "output_type": "stream",
     "text": [
      "Зростаюча послідовність студентів за зростом: [163, 170, 171, 174, 176, 185, 185, 186, 186, 192]\n",
      "Медіана = 180.5\n"
     ]
    }
   ],
   "source": [
    "DS_students = []\n",
    "\n",
    "for i in range(10):\n",
    "    number = int(input(\"Введіть зрост студентів: \"))\n",
    "    DS_students.append(number)\n",
    "DS_students.sort(reverse = False)\n",
    "print(\"Зростаюча послідовність студентів за зростом:\", DS_students)\n",
    "\n",
    "if len(DS_students) % 2 != 0:\n",
    "    k = len(DS_students) // 2\n",
    "    DS_k = DS_students[k]\n",
    "    print(\"Медіана = %s\" % DS_k)\n",
    "else:\n",
    "    d = len(DS_students) // 2\n",
    "    d1 = d - 1\n",
    "    DS_d = (DS_students[d] + DS_students[d1])/2\n",
    "    print(\"Медіана = %s\" % DS_d)"
   ],
   "metadata": {
    "collapsed": false,
    "pycharm": {
     "name": "#%%\n"
    }
   }
  },
  {
   "cell_type": "markdown",
   "source": [
    "#### _6.3. Cтандартне відхилення_"
   ],
   "metadata": {
    "collapsed": false,
    "pycharm": {
     "name": "#%% md\n"
    }
   }
  },
  {
   "cell_type": "code",
   "execution_count": 70,
   "outputs": [
    {
     "name": "stdout",
     "output_type": "stream",
     "text": [
      "Зростаюча послідовність студентів за зростом: [163, 170, 171, 174, 176, 185, 185, 186, 186, 192]\n",
      "Cтандартне відхилення = 8.795453370918407\n"
     ]
    }
   ],
   "source": [
    "DS_students = []\n",
    "\n",
    "for i in range(10):\n",
    "    number = int(input(\"Введіть зрост студентів: \"))\n",
    "    DS_students.append(number)\n",
    "DS_students.sort(reverse = False)\n",
    "print(\"Зростаюча послідовність студентів за зростом:\", DS_students)\n",
    "\n",
    "c = 0\n",
    "for i in range(len(DS_students)):\n",
    "    k = DS_students[i]\n",
    "    c = c + k\n",
    "mean = c/len(DS_students)\n",
    "\n",
    "import math\n",
    "l = 0\n",
    "for d in range(len(DS_students)):\n",
    "    lc = (DS_students[d] - mean)**2\n",
    "    l = l + lc\n",
    "Variance = l/len(DS_students)\n",
    "Standard_deviation = math.sqrt(Variance)\n",
    "print(\"Cтандартне відхилення = %s\" % Standard_deviation)"
   ],
   "metadata": {
    "collapsed": false,
    "pycharm": {
     "name": "#%%\n"
    }
   }
  }
 ],
 "metadata": {
  "kernelspec": {
   "display_name": "Python 3",
   "language": "python",
   "name": "python3"
  },
  "language_info": {
   "codemirror_mode": {
    "name": "ipython",
    "version": 2
   },
   "file_extension": ".py",
   "mimetype": "text/x-python",
   "name": "python",
   "nbconvert_exporter": "python",
   "pygments_lexer": "ipython2",
   "version": "2.7.6"
  }
 },
 "nbformat": 4,
 "nbformat_minor": 0
}